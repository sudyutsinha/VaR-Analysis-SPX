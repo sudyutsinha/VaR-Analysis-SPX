{
 "cells": [
  {
   "cell_type": "code",
   "execution_count": 2,
   "id": "f6ad9c75",
   "metadata": {},
   "outputs": [],
   "source": [
    "# import necessary packages\n",
    "import pandas as pd"
   ]
  },
  {
   "cell_type": "code",
   "execution_count": 3,
   "id": "6541344b",
   "metadata": {},
   "outputs": [
    {
     "data": {
      "text/html": [
       "<div>\n",
       "<style scoped>\n",
       "    .dataframe tbody tr th:only-of-type {\n",
       "        vertical-align: middle;\n",
       "    }\n",
       "\n",
       "    .dataframe tbody tr th {\n",
       "        vertical-align: top;\n",
       "    }\n",
       "\n",
       "    .dataframe thead th {\n",
       "        text-align: right;\n",
       "    }\n",
       "</style>\n",
       "<table border=\"1\" class=\"dataframe\">\n",
       "  <thead>\n",
       "    <tr style=\"text-align: right;\">\n",
       "      <th></th>\n",
       "      <th>date</th>\n",
       "      <th>spx</th>\n",
       "    </tr>\n",
       "  </thead>\n",
       "  <tbody>\n",
       "    <tr>\n",
       "      <th>0</th>\n",
       "      <td>3/31/2008</td>\n",
       "      <td>1322.7000</td>\n",
       "    </tr>\n",
       "    <tr>\n",
       "      <th>1</th>\n",
       "      <td>4/1/2008</td>\n",
       "      <td>1370.1801</td>\n",
       "    </tr>\n",
       "    <tr>\n",
       "      <th>2</th>\n",
       "      <td>4/2/2008</td>\n",
       "      <td>1367.5300</td>\n",
       "    </tr>\n",
       "    <tr>\n",
       "      <th>3</th>\n",
       "      <td>4/3/2008</td>\n",
       "      <td>1369.3101</td>\n",
       "    </tr>\n",
       "    <tr>\n",
       "      <th>4</th>\n",
       "      <td>4/4/2008</td>\n",
       "      <td>1370.4000</td>\n",
       "    </tr>\n",
       "  </tbody>\n",
       "</table>\n",
       "</div>"
      ],
      "text/plain": [
       "        date        spx\n",
       "0  3/31/2008  1322.7000\n",
       "1   4/1/2008  1370.1801\n",
       "2   4/2/2008  1367.5300\n",
       "3   4/3/2008  1369.3101\n",
       "4   4/4/2008  1370.4000"
      ]
     },
     "execution_count": 3,
     "metadata": {},
     "output_type": "execute_result"
    }
   ],
   "source": [
    "# read in data into a data frame\n",
    "df_data = pd.read_csv(r'C:\\Users\\sudyu\\Downloads\\spx.csv')\n",
    "df_data.head()"
   ]
  },
  {
   "cell_type": "code",
   "execution_count": 4,
   "id": "567534b9",
   "metadata": {},
   "outputs": [
    {
     "data": {
      "text/html": [
       "<div>\n",
       "<style scoped>\n",
       "    .dataframe tbody tr th:only-of-type {\n",
       "        vertical-align: middle;\n",
       "    }\n",
       "\n",
       "    .dataframe tbody tr th {\n",
       "        vertical-align: top;\n",
       "    }\n",
       "\n",
       "    .dataframe thead th {\n",
       "        text-align: right;\n",
       "    }\n",
       "</style>\n",
       "<table border=\"1\" class=\"dataframe\">\n",
       "  <thead>\n",
       "    <tr style=\"text-align: right;\">\n",
       "      <th></th>\n",
       "      <th>date</th>\n",
       "      <th>spx</th>\n",
       "      <th>daily change</th>\n",
       "    </tr>\n",
       "  </thead>\n",
       "  <tbody>\n",
       "    <tr>\n",
       "      <th>1</th>\n",
       "      <td>4/1/2008</td>\n",
       "      <td>1370.1801</td>\n",
       "      <td>0.035896</td>\n",
       "    </tr>\n",
       "    <tr>\n",
       "      <th>2</th>\n",
       "      <td>4/2/2008</td>\n",
       "      <td>1367.5300</td>\n",
       "      <td>-0.001934</td>\n",
       "    </tr>\n",
       "    <tr>\n",
       "      <th>3</th>\n",
       "      <td>4/3/2008</td>\n",
       "      <td>1369.3101</td>\n",
       "      <td>0.001302</td>\n",
       "    </tr>\n",
       "    <tr>\n",
       "      <th>4</th>\n",
       "      <td>4/4/2008</td>\n",
       "      <td>1370.4000</td>\n",
       "      <td>0.000796</td>\n",
       "    </tr>\n",
       "    <tr>\n",
       "      <th>5</th>\n",
       "      <td>4/7/2008</td>\n",
       "      <td>1372.5400</td>\n",
       "      <td>0.001562</td>\n",
       "    </tr>\n",
       "  </tbody>\n",
       "</table>\n",
       "</div>"
      ],
      "text/plain": [
       "       date        spx  daily change\n",
       "1  4/1/2008  1370.1801      0.035896\n",
       "2  4/2/2008  1367.5300     -0.001934\n",
       "3  4/3/2008  1369.3101      0.001302\n",
       "4  4/4/2008  1370.4000      0.000796\n",
       "5  4/7/2008  1372.5400      0.001562"
      ]
     },
     "execution_count": 4,
     "metadata": {},
     "output_type": "execute_result"
    }
   ],
   "source": [
    "# calculate daily returns\n",
    "df_data[\"daily change\"] = df_data[\"spx\"].pct_change() \n",
    "df_data = df_data.dropna()\n",
    "df_data.head()"
   ]
  },
  {
   "cell_type": "code",
   "execution_count": 5,
   "id": "7dd73a59",
   "metadata": {},
   "outputs": [
    {
     "data": {
      "text/html": [
       "<div>\n",
       "<style scoped>\n",
       "    .dataframe tbody tr th:only-of-type {\n",
       "        vertical-align: middle;\n",
       "    }\n",
       "\n",
       "    .dataframe tbody tr th {\n",
       "        vertical-align: top;\n",
       "    }\n",
       "\n",
       "    .dataframe thead th {\n",
       "        text-align: right;\n",
       "    }\n",
       "</style>\n",
       "<table border=\"1\" class=\"dataframe\">\n",
       "  <thead>\n",
       "    <tr style=\"text-align: right;\">\n",
       "      <th></th>\n",
       "      <th>date</th>\n",
       "      <th>spx</th>\n",
       "      <th>daily change</th>\n",
       "      <th>sorted daily changes</th>\n",
       "    </tr>\n",
       "  </thead>\n",
       "  <tbody>\n",
       "    <tr>\n",
       "      <th>3011</th>\n",
       "      <td>3/16/2020</td>\n",
       "      <td>2386.1299</td>\n",
       "      <td>-0.119841</td>\n",
       "      <td>-0.119841</td>\n",
       "    </tr>\n",
       "    <tr>\n",
       "      <th>3009</th>\n",
       "      <td>3/12/2020</td>\n",
       "      <td>2480.6399</td>\n",
       "      <td>-0.095113</td>\n",
       "      <td>-0.095113</td>\n",
       "    </tr>\n",
       "    <tr>\n",
       "      <th>139</th>\n",
       "      <td>10/15/2008</td>\n",
       "      <td>907.8400</td>\n",
       "      <td>-0.090350</td>\n",
       "      <td>-0.090350</td>\n",
       "    </tr>\n",
       "    <tr>\n",
       "      <th>171</th>\n",
       "      <td>12/1/2008</td>\n",
       "      <td>816.2100</td>\n",
       "      <td>-0.089295</td>\n",
       "      <td>-0.089295</td>\n",
       "    </tr>\n",
       "    <tr>\n",
       "      <th>127</th>\n",
       "      <td>9/29/2008</td>\n",
       "      <td>1106.4200</td>\n",
       "      <td>-0.088068</td>\n",
       "      <td>-0.088068</td>\n",
       "    </tr>\n",
       "  </tbody>\n",
       "</table>\n",
       "</div>"
      ],
      "text/plain": [
       "            date        spx  daily change  sorted daily changes\n",
       "3011   3/16/2020  2386.1299     -0.119841             -0.119841\n",
       "3009   3/12/2020  2480.6399     -0.095113             -0.095113\n",
       "139   10/15/2008   907.8400     -0.090350             -0.090350\n",
       "171    12/1/2008   816.2100     -0.089295             -0.089295\n",
       "127    9/29/2008  1106.4200     -0.088068             -0.088068"
      ]
     },
     "execution_count": 5,
     "metadata": {},
     "output_type": "execute_result"
    }
   ],
   "source": [
    "# sort returns\n",
    "df_data[\"sorted daily changes\"] = df_data[\"daily change\"]\n",
    "df_data = df_data.sort_values('sorted daily changes', ascending=True)\n",
    "df_data.head()"
   ]
  },
  {
   "cell_type": "code",
   "execution_count": 6,
   "id": "b70d704c",
   "metadata": {},
   "outputs": [
    {
     "name": "stdout",
     "output_type": "stream",
     "text": [
      "With 95% confidence, the potential loss will not be greater than -1.97%\n"
     ]
    }
   ],
   "source": [
    "# perform VaR calculation\n",
    "VaR = round(100*df_data.iloc[181, 3], 2)\n",
    "print(\"With 95% confidence, the potential loss will not be greater than \" + str(VaR) + \"%\")"
   ]
  }
 ],
 "metadata": {
  "kernelspec": {
   "display_name": "Python 3 (ipykernel)",
   "language": "python",
   "name": "python3"
  },
  "language_info": {
   "codemirror_mode": {
    "name": "ipython",
    "version": 3
   },
   "file_extension": ".py",
   "mimetype": "text/x-python",
   "name": "python",
   "nbconvert_exporter": "python",
   "pygments_lexer": "ipython3",
   "version": "3.9.7"
  }
 },
 "nbformat": 4,
 "nbformat_minor": 5
}
