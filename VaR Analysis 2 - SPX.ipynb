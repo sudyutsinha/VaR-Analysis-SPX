{
 "cells": [
  {
   "cell_type": "code",
   "execution_count": 12,
   "id": "534b5b17",
   "metadata": {},
   "outputs": [],
   "source": [
    "# import necessary packages\n",
    "\n",
    "import numpy as np\n",
    "import pandas as pd"
   ]
  },
  {
   "cell_type": "code",
   "execution_count": 13,
   "id": "a079eb2a",
   "metadata": {},
   "outputs": [
    {
     "data": {
      "text/html": [
       "<div>\n",
       "<style scoped>\n",
       "    .dataframe tbody tr th:only-of-type {\n",
       "        vertical-align: middle;\n",
       "    }\n",
       "\n",
       "    .dataframe tbody tr th {\n",
       "        vertical-align: top;\n",
       "    }\n",
       "\n",
       "    .dataframe thead th {\n",
       "        text-align: right;\n",
       "    }\n",
       "</style>\n",
       "<table border=\"1\" class=\"dataframe\">\n",
       "  <thead>\n",
       "    <tr style=\"text-align: right;\">\n",
       "      <th></th>\n",
       "      <th>date</th>\n",
       "      <th>spx</th>\n",
       "    </tr>\n",
       "  </thead>\n",
       "  <tbody>\n",
       "    <tr>\n",
       "      <th>0</th>\n",
       "      <td>3/31/2008</td>\n",
       "      <td>1322.7000</td>\n",
       "    </tr>\n",
       "    <tr>\n",
       "      <th>1</th>\n",
       "      <td>4/1/2008</td>\n",
       "      <td>1370.1801</td>\n",
       "    </tr>\n",
       "    <tr>\n",
       "      <th>2</th>\n",
       "      <td>4/2/2008</td>\n",
       "      <td>1367.5300</td>\n",
       "    </tr>\n",
       "    <tr>\n",
       "      <th>3</th>\n",
       "      <td>4/3/2008</td>\n",
       "      <td>1369.3101</td>\n",
       "    </tr>\n",
       "    <tr>\n",
       "      <th>4</th>\n",
       "      <td>4/4/2008</td>\n",
       "      <td>1370.4000</td>\n",
       "    </tr>\n",
       "  </tbody>\n",
       "</table>\n",
       "</div>"
      ],
      "text/plain": [
       "        date        spx\n",
       "0  3/31/2008  1322.7000\n",
       "1   4/1/2008  1370.1801\n",
       "2   4/2/2008  1367.5300\n",
       "3   4/3/2008  1369.3101\n",
       "4   4/4/2008  1370.4000"
      ]
     },
     "execution_count": 13,
     "metadata": {},
     "output_type": "execute_result"
    }
   ],
   "source": [
    "# read in data to data frame\n",
    "\n",
    "df_data = pd.read_csv(r'C:\\Users\\sudyu\\Downloads\\spx.csv')\n",
    "df_data.head()"
   ]
  },
  {
   "cell_type": "code",
   "execution_count": 14,
   "id": "0c3912c6",
   "metadata": {},
   "outputs": [
    {
     "data": {
      "text/html": [
       "<div>\n",
       "<style scoped>\n",
       "    .dataframe tbody tr th:only-of-type {\n",
       "        vertical-align: middle;\n",
       "    }\n",
       "\n",
       "    .dataframe tbody tr th {\n",
       "        vertical-align: top;\n",
       "    }\n",
       "\n",
       "    .dataframe thead th {\n",
       "        text-align: right;\n",
       "    }\n",
       "</style>\n",
       "<table border=\"1\" class=\"dataframe\">\n",
       "  <thead>\n",
       "    <tr style=\"text-align: right;\">\n",
       "      <th></th>\n",
       "      <th>date</th>\n",
       "      <th>spx</th>\n",
       "      <th>daily change</th>\n",
       "    </tr>\n",
       "  </thead>\n",
       "  <tbody>\n",
       "    <tr>\n",
       "      <th>0</th>\n",
       "      <td>3/31/2008</td>\n",
       "      <td>1322.7000</td>\n",
       "      <td>NaN</td>\n",
       "    </tr>\n",
       "    <tr>\n",
       "      <th>1</th>\n",
       "      <td>4/1/2008</td>\n",
       "      <td>1370.1801</td>\n",
       "      <td>0.035896</td>\n",
       "    </tr>\n",
       "    <tr>\n",
       "      <th>2</th>\n",
       "      <td>4/2/2008</td>\n",
       "      <td>1367.5300</td>\n",
       "      <td>-0.001934</td>\n",
       "    </tr>\n",
       "    <tr>\n",
       "      <th>3</th>\n",
       "      <td>4/3/2008</td>\n",
       "      <td>1369.3101</td>\n",
       "      <td>0.001302</td>\n",
       "    </tr>\n",
       "    <tr>\n",
       "      <th>4</th>\n",
       "      <td>4/4/2008</td>\n",
       "      <td>1370.4000</td>\n",
       "      <td>0.000796</td>\n",
       "    </tr>\n",
       "  </tbody>\n",
       "</table>\n",
       "</div>"
      ],
      "text/plain": [
       "        date        spx  daily change\n",
       "0  3/31/2008  1322.7000           NaN\n",
       "1   4/1/2008  1370.1801      0.035896\n",
       "2   4/2/2008  1367.5300     -0.001934\n",
       "3   4/3/2008  1369.3101      0.001302\n",
       "4   4/4/2008  1370.4000      0.000796"
      ]
     },
     "execution_count": 14,
     "metadata": {},
     "output_type": "execute_result"
    }
   ],
   "source": [
    "# calculate daily returns\n",
    "\n",
    "df_data[\"daily change\"] = df_data[\"spx\"].pct_change() \n",
    "df_data.head()"
   ]
  },
  {
   "cell_type": "code",
   "execution_count": 15,
   "id": "aa39a3ee",
   "metadata": {},
   "outputs": [],
   "source": [
    "# calculate mean and standard deviation of returns\n",
    "\n",
    "mean_of_returns = df_data[\"daily change\"].mean()\n",
    "stdev_of_returns = np.std(df_data[\"daily change\"])"
   ]
  },
  {
   "cell_type": "code",
   "execution_count": 16,
   "id": "7d4023cc",
   "metadata": {},
   "outputs": [
    {
     "name": "stdout",
     "output_type": "stream",
     "text": [
      "With 95% confidence, the potential loss will not be greater than -2.11%\n"
     ]
    }
   ],
   "source": [
    "# perform VaR calculation\n",
    "\n",
    "VaR = norm.ppf(0.05, mean_of_returns, stdev_of_returns)\n",
    "print(\"With 95% confidence, the potential loss will not be greater than \" + str(round(100*VaR, 2)) + \"%\")"
   ]
  }
 ],
 "metadata": {
  "kernelspec": {
   "display_name": "Python 3 (ipykernel)",
   "language": "python",
   "name": "python3"
  },
  "language_info": {
   "codemirror_mode": {
    "name": "ipython",
    "version": 3
   },
   "file_extension": ".py",
   "mimetype": "text/x-python",
   "name": "python",
   "nbconvert_exporter": "python",
   "pygments_lexer": "ipython3",
   "version": "3.9.7"
  }
 },
 "nbformat": 4,
 "nbformat_minor": 5
}
